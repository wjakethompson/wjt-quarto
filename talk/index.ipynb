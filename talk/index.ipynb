{
  "cells": [
    {
      "cell_type": "raw",
      "metadata": {},
      "source": [
        "---\n",
        "title: \"Talks\"\n",
        "listing:\n",
        "  - id: talks_2023\n",
        "    contents: talks_2023.yml\n",
        "    sort: \"date desc\"\n",
        "    template: ../assets/talks/listing.ejs\n",
        "title-block-banner: \"#272727\"\n",
        "page-layout: full\n",
        "toc: true\n",
        "toc-location: right\n",
        "toc-title: Year\n",
        "date-format: \"MMMM D, YYYY\"\n",
        "\n",
        "header-includes: >\n",
        "  <link rel=\"stylesheet\" href=\"../assets/blog-listing.scss\">\n",
        "resources:\n",
        "  - ../assets/blog-listing.scss \n",
        "---"
      ],
      "id": "a357ed46"
    },
    {
      "cell_type": "markdown",
      "metadata": {},
      "source": [
        "```{css, echo = FALSE}\n",
        "#title-block-header .description {\n",
        "    display: none;\n",
        "}\n",
        "```\n",
        "\n",
        "\n",
        "This page contains the source code, links, and slides for various workshops, talks, lectures, and presentations I've given. Research presentations given at conferences are typically stored in their respective repositories on GitHub; one-off workshops and talks can all be found in a [catch-all GitHub repository](https://github.com/andrewheiss/talks).\n",
        "\n",
        "\n",
        "## 2023\n",
        "\n",
        ":::{#talks_2023}\n",
        ":::"
      ],
      "id": "5f75c426"
    }
  ],
  "metadata": {
    "kernelspec": {
      "display_name": "Python 3",
      "language": "python",
      "name": "python3"
    }
  },
  "nbformat": 4,
  "nbformat_minor": 5
}